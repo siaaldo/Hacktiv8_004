{
 "cells": [
  {
   "cell_type": "markdown",
   "source": [
    "CONVERTER SUHU\n",
    "\n",
    "Fitur yang tersedia :\n",
    "1. convert suhu dari celcius ke kelvin atau sebaliknya.\n",
    "2. convert suhu dari celcius dan kelvin ke fahrenheit\n",
    "3. convert suhu dari fahrenheit ke celcius dan kelvin"
   ],
   "metadata": {}
  },
  {
   "cell_type": "markdown",
   "source": [
    "cara pertama import module dari package module_suhu"
   ],
   "metadata": {}
  },
  {
   "cell_type": "code",
   "execution_count": 5,
   "source": [
    "from module_suhu import celciuskelvin as celKev\n",
    "from module_suhu import candktof as cktof\n",
    "from module_suhu import ftocandk as ftock\n"
   ],
   "outputs": [],
   "metadata": {}
  },
  {
   "cell_type": "markdown",
   "source": [
    "jalankan fitur yang di inginkan dengan command :\n",
    "1. celKev.convertCandK() untuk fitur 1\n",
    "2. cktof.converttoF() untuk fitur 2\n",
    "3. ftock.convertfromF() untuk fitur 3\n"
   ],
   "metadata": {}
  },
  {
   "cell_type": "markdown",
   "source": [
    "Mencoba Jalankan Fitur 1"
   ],
   "metadata": {}
  },
  {
   "cell_type": "code",
   "execution_count": 7,
   "source": [
    "celKev.convertCandK()"
   ],
   "outputs": [
    {
     "output_type": "stream",
     "name": "stdout",
     "text": [
      "berhasil ubah suhu ke kelvin menjadi 329.15 kelvin\n"
     ]
    }
   ],
   "metadata": {}
  },
  {
   "cell_type": "markdown",
   "source": [
    "Mencoba Jalankan Fitur 2"
   ],
   "metadata": {}
  },
  {
   "cell_type": "code",
   "execution_count": 8,
   "source": [
    "cktof.converttoF()"
   ],
   "outputs": [
    {
     "output_type": "stream",
     "name": "stdout",
     "text": [
      "konversi suhu berhasil!\n",
      "Suhu berhasil diubah menjadi 315 fahrenheit\n"
     ]
    }
   ],
   "metadata": {}
  },
  {
   "cell_type": "markdown",
   "source": [
    "Mencoba Jalankan Fitur 3"
   ],
   "metadata": {}
  },
  {
   "cell_type": "code",
   "execution_count": 9,
   "source": [
    "ftock.convertfromF()"
   ],
   "outputs": [
    {
     "output_type": "stream",
     "name": "stdout",
     "text": [
      "Konversi Suhu Berhasil !\n",
      "suhu menjadi 312.0388888888889 kelvin\n"
     ]
    }
   ],
   "metadata": {}
  },
  {
   "cell_type": "code",
   "execution_count": null,
   "source": [],
   "outputs": [],
   "metadata": {}
  }
 ],
 "metadata": {
  "orig_nbformat": 4,
  "language_info": {
   "name": "python",
   "version": "3.7.11",
   "mimetype": "text/x-python",
   "codemirror_mode": {
    "name": "ipython",
    "version": 3
   },
   "pygments_lexer": "ipython3",
   "nbconvert_exporter": "python",
   "file_extension": ".py"
  },
  "kernelspec": {
   "name": "python3",
   "display_name": "Python 3.7.11 64-bit ('myenv': conda)"
  },
  "interpreter": {
   "hash": "b14d51ca0692cdd4791656e848211e54a1ba15e0b8b10b8f46e6df82c388c726"
  }
 },
 "nbformat": 4,
 "nbformat_minor": 2
}