{
 "cells": [
  {
   "cell_type": "code",
   "execution_count": 10,
   "metadata": {},
   "outputs": [],
   "source": [
    "def convertCandK ():\n",
    "    outputSuhu = []\n",
    "    '''Input 1 atau 2 untuk menjalankan pengubah suhu'''\n",
    "    choose = input('Pilih 1 untuk pilih celcius to kelvin, atau 2 untuk sebaliknya : ')\n",
    "    choose_inp = int(choose)\n",
    "    if choose_inp == 1:\n",
    "        suhuIn = int(input('Masukan Suhu dalam Celcius : '))\n",
    "        suhuIn += 273.15\n",
    "        print(f'berhasil ubah suhu ke kelvin menjadi {suhuIn} kelvin')\n",
    "    elif choose_inp == 2:\n",
    "        suhuIn = int(input('Masukan Suhu dalam Kelvin : '))\n",
    "        suhuIn -= 273.15\n",
    "        print(f'berhasil ubah suhu ke celcius menjadi {suhuIn} derajat celcius')\n",
    "    else : print('Command tidak ditemukan')\n",
    "\n",
    "def converttoF():\n",
    "    '''input 1 atau 2 untuk menjalankan pengubah suhu'''\n",
    "    choose = int(input('Converter suhu dari celcius atau kelvin menjadi farenheit, pilih 1 dari celcius dan 2 dari kelvin : '))\n",
    "    if choose == 1:\n",
    "        suhuIn = int(input('Masukan suhu dalam celcius'))\n",
    "        suhuIn = (suhuIn*9/5) + 32\n",
    "        print(f'konversi suhu berhasil !\\nSuhu menjadi {suhuIn} fahrenheit')\n",
    "    elif choose == 2:\n",
    "        suhuIn = int(input('Masukan suhu dalam kelvin'))\n",
    "        suhuIN = ((suhuIn - 273.15)*9/5) + 32\n",
    "        print(f'konversi suhu berhasil!\\nSuhu berhasil diubah menjadi {suhuIn} fahrenheit')\n",
    "    else : print('command tidak ditemukan')\n",
    "\n",
    "def convertfromF ():\n",
    "    '''input 1 atau 2 untuk menjalankan pengubah suhu'''\n",
    "    suhuIn = int(input('Masukin Suhu dalma Fahrenheit : '))\n",
    "    choose = int(input('Converter Suhu dari fahrenheit, ketik 1 untuk mengubah ke celcius dan 2 untuk mengubah ke kelvin : '))\n",
    "    if choose == 1 :\n",
    "        suhuIn = float(((suhuIn - 32) * 5/9))\n",
    "        print(f'Konversi suhu berhasil !\\nsuhu menjadi {suhuIn} celcius')\n",
    "    elif choose == 2:\n",
    "        suhuIn = (suhuIn-32)*5/9+273.15\n",
    "        print(f'Konversi Suhu Berhasil !\\nsuhu menjadi {suhuIn} kelvin')\n",
    "    else : print('ccommand tidak ditemukan')"
   ]
  },
  {
   "cell_type": "code",
   "execution_count": 11,
   "metadata": {},
   "outputs": [
    {
     "name": "stdout",
     "output_type": "stream",
     "text": [
      "Masukin Suhu dalma Fahrenheit : 88\n",
      "Converter Suhu dari fahrenheit, ketik 1 untuk mengubah ke celcius dan 2 untuk mengubah ke kelvin : 1\n",
      "Konversi suhu berhasil !\n",
      "suhu menjadi 31.11111111111111 celcius\n"
     ]
    }
   ],
   "source": [
    "convertfromF()"
   ]
  },
  {
   "cell_type": "code",
   "execution_count": 13,
   "metadata": {},
   "outputs": [],
   "source": []
  },
  {
   "cell_type": "code",
   "execution_count": null,
   "metadata": {},
   "outputs": [],
   "source": []
  }
 ],
 "metadata": {
  "interpreter": {
   "hash": "4c1d69c43757672e59b77525f27ecacb3bb12d3a493340870e08d8f4244c1f15"
  },
  "kernelspec": {
   "display_name": "Python 3",
   "language": "python",
   "name": "python3"
  },
  "language_info": {
   "codemirror_mode": {
    "name": "ipython",
    "version": 3
   },
   "file_extension": ".py",
   "mimetype": "text/x-python",
   "name": "python",
   "nbconvert_exporter": "python",
   "pygments_lexer": "ipython3",
   "version": "3.8.8"
  }
 },
 "nbformat": 4,
 "nbformat_minor": 2
}
