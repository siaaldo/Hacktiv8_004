{
 "cells": [
  {
   "cell_type": "code",
   "execution_count": 147,
   "source": [
    "import pandas as pd\n",
    "import sqlite3"
   ],
   "outputs": [],
   "metadata": {}
  },
  {
   "cell_type": "markdown",
   "source": [
    "import csv file"
   ],
   "metadata": {}
  },
  {
   "cell_type": "code",
   "execution_count": 148,
   "source": [
    "df1 = pd.read_csv('assessments.csv')\n",
    "df2 = pd.read_csv('courses.csv')\n",
    "df3 = pd.read_csv('studentInfo.csv')\n",
    "df4 = pd.read_csv('studentRegistration.csv')\n",
    "df5 = pd.read_csv('vle.csv')\n",
    "df6 = pd.read_csv('studentAssessment.csv')"
   ],
   "outputs": [],
   "metadata": {}
  },
  {
   "cell_type": "markdown",
   "source": [
    "create connection"
   ],
   "metadata": {}
  },
  {
   "cell_type": "code",
   "execution_count": 149,
   "source": [
    "conn = sqlite3.connect('ungradedtest.db', timeout=30)"
   ],
   "outputs": [],
   "metadata": {}
  },
  {
   "cell_type": "markdown",
   "source": [
    "create cursor"
   ],
   "metadata": {}
  },
  {
   "cell_type": "code",
   "execution_count": 150,
   "source": [
    "curr = conn.cursor()"
   ],
   "outputs": [],
   "metadata": {}
  },
  {
   "cell_type": "markdown",
   "source": [
    "create DROP function"
   ],
   "metadata": {}
  },
  {
   "cell_type": "code",
   "execution_count": 151,
   "source": [
    "def dropTable(table):\n",
    "    curr.execute(f'''\n",
    "        DROP TABLE {table}\n",
    "    ''')\n",
    "    conn.commit()"
   ],
   "outputs": [],
   "metadata": {}
  },
  {
   "cell_type": "markdown",
   "source": [
    "knowing df1.info()"
   ],
   "metadata": {}
  },
  {
   "cell_type": "code",
   "execution_count": 152,
   "source": [
    "df1.info()"
   ],
   "outputs": [
    {
     "output_type": "stream",
     "name": "stdout",
     "text": [
      "<class 'pandas.core.frame.DataFrame'>\n",
      "RangeIndex: 206 entries, 0 to 205\n",
      "Data columns (total 6 columns):\n",
      " #   Column             Non-Null Count  Dtype  \n",
      "---  ------             --------------  -----  \n",
      " 0   code_module        206 non-null    object \n",
      " 1   code_presentation  206 non-null    object \n",
      " 2   id_assessment      206 non-null    int64  \n",
      " 3   assessment_type    206 non-null    object \n",
      " 4   date               195 non-null    float64\n",
      " 5   weight             206 non-null    float64\n",
      "dtypes: float64(2), int64(1), object(3)\n",
      "memory usage: 9.8+ KB\n"
     ]
    }
   ],
   "metadata": {}
  },
  {
   "cell_type": "markdown",
   "source": [
    "change int datatype to float data type"
   ],
   "metadata": {}
  },
  {
   "cell_type": "code",
   "execution_count": 153,
   "source": [
    "df1['id_assessment'] = df1['id_assessment'].astype(float)"
   ],
   "outputs": [],
   "metadata": {}
  },
  {
   "cell_type": "code",
   "execution_count": 154,
   "source": [
    "dropTable('assessment')"
   ],
   "outputs": [],
   "metadata": {}
  },
  {
   "cell_type": "markdown",
   "source": [
    "creating assessment table"
   ],
   "metadata": {}
  },
  {
   "cell_type": "code",
   "execution_count": 155,
   "source": [
    "curr.execute('''\n",
    "    CREATE TABLE assessment(\n",
    "        code_module varchar(50),\n",
    "        code_presentation varchar(50),\n",
    "        id_assessment INT PRIMARY KEY,\n",
    "        assessment_type varchar(50),\n",
    "        date date,\n",
    "        weight FLOAT\n",
    "    );'''\n",
    ")"
   ],
   "outputs": [
    {
     "output_type": "execute_result",
     "data": {
      "text/plain": [
       "<sqlite3.Cursor at 0x7fae79e111f0>"
      ]
     },
     "metadata": {},
     "execution_count": 155
    }
   ],
   "metadata": {}
  },
  {
   "cell_type": "markdown",
   "source": [
    "INSERTING all values from csv file"
   ],
   "metadata": {}
  },
  {
   "cell_type": "code",
   "execution_count": 156,
   "source": [
    "for i in range(len(df1)):\n",
    "    curr.execute('''\n",
    "    INSERT INTO assessment (code_module, code_presentation, id_assessment, assessment_type, date, weight)\n",
    "    VALUES (?,?,?,?,?,?)''', (df1['code_module'][i],\n",
    "    df1['code_presentation'][i],\n",
    "    df1['id_assessment'][i],\n",
    "    df1['assessment_type'][i],\n",
    "    df1['date'][i],\n",
    "    df1['weight'][i]))\n",
    "    conn.commit()"
   ],
   "outputs": [],
   "metadata": {}
  },
  {
   "cell_type": "markdown",
   "source": [
    "df2 info"
   ],
   "metadata": {}
  },
  {
   "cell_type": "code",
   "execution_count": 157,
   "source": [
    "df2.info()"
   ],
   "outputs": [
    {
     "output_type": "stream",
     "name": "stdout",
     "text": [
      "<class 'pandas.core.frame.DataFrame'>\n",
      "RangeIndex: 22 entries, 0 to 21\n",
      "Data columns (total 3 columns):\n",
      " #   Column                      Non-Null Count  Dtype \n",
      "---  ------                      --------------  ----- \n",
      " 0   code_module                 22 non-null     object\n",
      " 1   code_presentation           22 non-null     object\n",
      " 2   module_presentation_length  22 non-null     int64 \n",
      "dtypes: int64(1), object(2)\n",
      "memory usage: 656.0+ bytes\n"
     ]
    }
   ],
   "metadata": {}
  },
  {
   "cell_type": "markdown",
   "source": [
    "mengganti int64 to float"
   ],
   "metadata": {}
  },
  {
   "cell_type": "code",
   "execution_count": 158,
   "source": [
    "df2['module_presentation_length'] = df2['module_presentation_length'].astype(float)"
   ],
   "outputs": [],
   "metadata": {}
  },
  {
   "cell_type": "code",
   "execution_count": 159,
   "source": [
    "dropTable('courses')"
   ],
   "outputs": [],
   "metadata": {}
  },
  {
   "cell_type": "markdown",
   "source": [
    "create courses TABLE"
   ],
   "metadata": {}
  },
  {
   "cell_type": "code",
   "execution_count": 160,
   "source": [
    "curr.execute('''\n",
    "    CREATE TABLE courses(\n",
    "        code_module varchar(50),\n",
    "        code_presentation varchar(50),\n",
    "        module_presentation_lenght INT\n",
    "    );'''\n",
    ")"
   ],
   "outputs": [
    {
     "output_type": "execute_result",
     "data": {
      "text/plain": [
       "<sqlite3.Cursor at 0x7fae79e111f0>"
      ]
     },
     "metadata": {},
     "execution_count": 160
    }
   ],
   "metadata": {}
  },
  {
   "cell_type": "markdown",
   "source": [
    "INSERTING courses values from csv"
   ],
   "metadata": {}
  },
  {
   "cell_type": "code",
   "execution_count": 161,
   "source": [
    "for i in range(len(df2)):\n",
    "    curr.execute('''\n",
    "    INSERT INTO courses (code_module, code_presentation, module_presentation_lenght)\n",
    "    VALUES (?,?,?)''', \n",
    "    (df2['code_module'][i],\n",
    "    df2['code_presentation'][i],\n",
    "    df2['module_presentation_length'][i]))\n",
    "    conn.commit()"
   ],
   "outputs": [],
   "metadata": {}
  },
  {
   "cell_type": "markdown",
   "source": [
    "df3 info"
   ],
   "metadata": {}
  },
  {
   "cell_type": "code",
   "execution_count": 162,
   "source": [
    "df3.info()"
   ],
   "outputs": [
    {
     "output_type": "stream",
     "name": "stdout",
     "text": [
      "<class 'pandas.core.frame.DataFrame'>\n",
      "RangeIndex: 32593 entries, 0 to 32592\n",
      "Data columns (total 12 columns):\n",
      " #   Column                Non-Null Count  Dtype \n",
      "---  ------                --------------  ----- \n",
      " 0   code_module           32593 non-null  object\n",
      " 1   code_presentation     32593 non-null  object\n",
      " 2   id_student            32593 non-null  int64 \n",
      " 3   gender                32593 non-null  object\n",
      " 4   region                32593 non-null  object\n",
      " 5   highest_education     32593 non-null  object\n",
      " 6   imd_band              31482 non-null  object\n",
      " 7   age_band              32593 non-null  object\n",
      " 8   num_of_prev_attempts  32593 non-null  int64 \n",
      " 9   studied_credits       32593 non-null  int64 \n",
      " 10  disability            32593 non-null  object\n",
      " 11  final_result          32593 non-null  object\n",
      "dtypes: int64(3), object(9)\n",
      "memory usage: 3.0+ MB\n"
     ]
    }
   ],
   "metadata": {}
  },
  {
   "cell_type": "markdown",
   "source": [
    "change all INT datatype to float"
   ],
   "metadata": {}
  },
  {
   "cell_type": "code",
   "execution_count": 163,
   "source": [
    "df3['id_student'] = df3['id_student'].astype(float)\n",
    "df3['num_of_prev_attempts'] = df3['num_of_prev_attempts'].astype(float)\n",
    "df3['studied_credits'] = df3['studied_credits'].astype(float)"
   ],
   "outputs": [],
   "metadata": {}
  },
  {
   "cell_type": "code",
   "execution_count": 164,
   "source": [
    "dropTable('studentInfo')"
   ],
   "outputs": [],
   "metadata": {}
  },
  {
   "cell_type": "markdown",
   "source": [
    "creating TABLE studentInfo"
   ],
   "metadata": {}
  },
  {
   "cell_type": "code",
   "execution_count": 165,
   "source": [
    "curr.execute('''\n",
    "    CREATE TABLE studentInfo(\n",
    "        code_module varchar(50),\n",
    "        code_presentation varchar(50),\n",
    "        id_student INT,\n",
    "        gender varchar(50),\n",
    "        region varchar(50),\n",
    "        highest_education varchar(50),\n",
    "        imd_band varchar(50),\n",
    "        age_band varchar(50),\n",
    "        num_of_prev_attempts INT,\n",
    "        studied_credits INT,\n",
    "        disability varchat(50),\n",
    "        final_result varchar(50)\n",
    "    )\n",
    "''')"
   ],
   "outputs": [
    {
     "output_type": "execute_result",
     "data": {
      "text/plain": [
       "<sqlite3.Cursor at 0x7fae79e111f0>"
      ]
     },
     "metadata": {},
     "execution_count": 165
    }
   ],
   "metadata": {}
  },
  {
   "cell_type": "markdown",
   "source": [
    "INSERTING all valeus from CSV"
   ],
   "metadata": {}
  },
  {
   "cell_type": "code",
   "execution_count": 166,
   "source": [
    "\n",
    "for i in range(len(df3)):\n",
    "    curr.execute('''\n",
    "        INSERT INTO studentInfo (code_module, code_presentation, id_student, gender, region, highest_education, imd_band, age_band, num_of_prev_attempts, studied_credits, disability, final_result)\n",
    "        VALUES (?,?,?,?,?,?,?,?,?,?,?,?)''',(\n",
    "            df3['code_module'][i],\n",
    "            df3['code_presentation'][i],\n",
    "            df3['id_student'][i],\n",
    "            df3['gender'][i],\n",
    "            df3['region'][i],\n",
    "            df3['highest_education'][i],\n",
    "            df3['imd_band'][i],\n",
    "            df3['age_band'][i],\n",
    "            df3['num_of_prev_attempts'][i],\n",
    "            df3['studied_credits'][i],\n",
    "            df3['disability'][i],\n",
    "            df3['final_result'][i]\n",
    "        ))\n",
    "    conn.commit()"
   ],
   "outputs": [],
   "metadata": {}
  },
  {
   "cell_type": "markdown",
   "source": [
    "df4 INFO"
   ],
   "metadata": {}
  },
  {
   "cell_type": "code",
   "execution_count": 167,
   "source": [
    "df4.info()"
   ],
   "outputs": [
    {
     "output_type": "stream",
     "name": "stdout",
     "text": [
      "<class 'pandas.core.frame.DataFrame'>\n",
      "RangeIndex: 32593 entries, 0 to 32592\n",
      "Data columns (total 5 columns):\n",
      " #   Column               Non-Null Count  Dtype  \n",
      "---  ------               --------------  -----  \n",
      " 0   code_module          32593 non-null  object \n",
      " 1   code_presentation    32593 non-null  object \n",
      " 2   id_student           32593 non-null  int64  \n",
      " 3   date_registration    32548 non-null  float64\n",
      " 4   date_unregistration  10072 non-null  float64\n",
      "dtypes: float64(2), int64(1), object(2)\n",
      "memory usage: 1.2+ MB\n"
     ]
    }
   ],
   "metadata": {}
  },
  {
   "cell_type": "markdown",
   "source": [
    "change int datatype to float"
   ],
   "metadata": {}
  },
  {
   "cell_type": "code",
   "execution_count": 168,
   "source": [
    "df4['id_student'] = df4['id_student'].astype(float)"
   ],
   "outputs": [],
   "metadata": {}
  },
  {
   "cell_type": "code",
   "execution_count": 169,
   "source": [
    "dropTable('student_registration')"
   ],
   "outputs": [],
   "metadata": {}
  },
  {
   "cell_type": "markdown",
   "source": [
    "creating student_registration table"
   ],
   "metadata": {}
  },
  {
   "cell_type": "code",
   "execution_count": 170,
   "source": [
    "curr.execute('''\n",
    "    CREATE TABLE student_registration(\n",
    "        code_module varchar(50),\n",
    "        code_presentation varchar(50),\n",
    "        id_student INT,\n",
    "        date_registration FLOAT,\n",
    "        date_unregistration FLOAT\n",
    "    );\n",
    "''')"
   ],
   "outputs": [
    {
     "output_type": "execute_result",
     "data": {
      "text/plain": [
       "<sqlite3.Cursor at 0x7fae79e111f0>"
      ]
     },
     "metadata": {},
     "execution_count": 170
    }
   ],
   "metadata": {}
  },
  {
   "cell_type": "markdown",
   "source": [
    "inserting all valeus from csv"
   ],
   "metadata": {}
  },
  {
   "cell_type": "code",
   "execution_count": 171,
   "source": [
    "for i in range(len(df4)):\n",
    "    curr.execute('''\n",
    "        INSERT INTO student_registration (code_module, code_presentation, id_student, date_registration, date_unregistration)\n",
    "        VALUES (?,?,?,?,?)''', (\n",
    "            df4['code_module'][i],\n",
    "            df4['code_presentation'][i],\n",
    "            df4['id_student'][i],\n",
    "            df4['date_registration'][i],\n",
    "            df4['date_unregistration'][i]\n",
    "        )\n",
    "    )\n",
    "    conn.commit()"
   ],
   "outputs": [],
   "metadata": {}
  },
  {
   "cell_type": "markdown",
   "source": [
    "df5 info"
   ],
   "metadata": {}
  },
  {
   "cell_type": "code",
   "execution_count": 172,
   "source": [
    "df5.info()"
   ],
   "outputs": [
    {
     "output_type": "stream",
     "name": "stdout",
     "text": [
      "<class 'pandas.core.frame.DataFrame'>\n",
      "RangeIndex: 6364 entries, 0 to 6363\n",
      "Data columns (total 6 columns):\n",
      " #   Column             Non-Null Count  Dtype  \n",
      "---  ------             --------------  -----  \n",
      " 0   id_site            6364 non-null   int64  \n",
      " 1   code_module        6364 non-null   object \n",
      " 2   code_presentation  6364 non-null   object \n",
      " 3   activity_type      6364 non-null   object \n",
      " 4   week_from          1121 non-null   float64\n",
      " 5   week_to            1121 non-null   float64\n",
      "dtypes: float64(2), int64(1), object(3)\n",
      "memory usage: 298.4+ KB\n"
     ]
    }
   ],
   "metadata": {}
  },
  {
   "cell_type": "markdown",
   "source": [
    "change int datatype to float"
   ],
   "metadata": {}
  },
  {
   "cell_type": "code",
   "execution_count": 173,
   "source": [
    "df5['id_site'] = df5['id_site'].astype(float)"
   ],
   "outputs": [],
   "metadata": {}
  },
  {
   "cell_type": "code",
   "execution_count": 174,
   "source": [
    "dropTable('vle')"
   ],
   "outputs": [],
   "metadata": {}
  },
  {
   "cell_type": "markdown",
   "source": [
    "creating vle table"
   ],
   "metadata": {}
  },
  {
   "cell_type": "code",
   "execution_count": 175,
   "source": [
    "curr.execute('''\n",
    "    CREATE TABLE vle(\n",
    "        id_site INT,\n",
    "        code_module varchar(50),\n",
    "        code_presentation varchar(50),\n",
    "        activity_type varchar(50),\n",
    "        week_from INT,\n",
    "        week_to INT\n",
    "    )\n",
    "''')"
   ],
   "outputs": [
    {
     "output_type": "execute_result",
     "data": {
      "text/plain": [
       "<sqlite3.Cursor at 0x7fae79e111f0>"
      ]
     },
     "metadata": {},
     "execution_count": 175
    }
   ],
   "metadata": {}
  },
  {
   "cell_type": "markdown",
   "source": [
    "inserting all values from csv"
   ],
   "metadata": {}
  },
  {
   "cell_type": "code",
   "execution_count": 176,
   "source": [
    "for i in range(len(df5)):\n",
    "    curr.execute('''\n",
    "        INSERT INTO vle (id_site, code_module, code_presentation, activity_type, week_from, week_to)\n",
    "        VALUES (?,?,?,?,?,?)''',\n",
    "        (df5['id_site'][i],\n",
    "        df5['code_module'][i],\n",
    "        df5['code_presentation'][i],\n",
    "        df5['activity_type'][i],\n",
    "        df5['week_from'][i],\n",
    "        df5['week_to'][i]\n",
    "        ))\n",
    "    conn.commit()"
   ],
   "outputs": [],
   "metadata": {}
  },
  {
   "cell_type": "markdown",
   "source": [
    "df6 info"
   ],
   "metadata": {}
  },
  {
   "cell_type": "code",
   "execution_count": 177,
   "source": [
    "df6.info()"
   ],
   "outputs": [
    {
     "output_type": "stream",
     "name": "stdout",
     "text": [
      "<class 'pandas.core.frame.DataFrame'>\n",
      "RangeIndex: 173912 entries, 0 to 173911\n",
      "Data columns (total 5 columns):\n",
      " #   Column          Non-Null Count   Dtype  \n",
      "---  ------          --------------   -----  \n",
      " 0   id_assessment   173912 non-null  int64  \n",
      " 1   id_student      173912 non-null  int64  \n",
      " 2   date_submitted  173912 non-null  int64  \n",
      " 3   is_banked       173912 non-null  int64  \n",
      " 4   score           173739 non-null  float64\n",
      "dtypes: float64(1), int64(4)\n",
      "memory usage: 6.6 MB\n"
     ]
    }
   ],
   "metadata": {}
  },
  {
   "cell_type": "markdown",
   "source": [
    "change all int datatype to float"
   ],
   "metadata": {}
  },
  {
   "cell_type": "code",
   "execution_count": 178,
   "source": [
    "df6['id_assessment'] = df6['id_assessment'].astype(float)\n",
    "df6['id_student'] = df6['id_student'].astype(float)\n",
    "df6['date_submitted'] = df6['date_submitted'].astype(float)\n",
    "df6['is_banked'] = df6['is_banked'].astype(float)"
   ],
   "outputs": [],
   "metadata": {}
  },
  {
   "cell_type": "code",
   "execution_count": 179,
   "source": [
    "dropTable('studentAssessment')"
   ],
   "outputs": [],
   "metadata": {}
  },
  {
   "cell_type": "markdown",
   "source": [
    "creating studentAssessment table"
   ],
   "metadata": {}
  },
  {
   "cell_type": "code",
   "execution_count": 180,
   "source": [
    "curr.execute('''\n",
    "    CREATE TABLE studentAssessment(\n",
    "        id_assessment INT,\n",
    "        id_student INT,\n",
    "        date_submitted INT(50),\n",
    "        is_banked INT(50),\n",
    "        score INT\n",
    "    )\n",
    "''')"
   ],
   "outputs": [
    {
     "output_type": "execute_result",
     "data": {
      "text/plain": [
       "<sqlite3.Cursor at 0x7fae79e111f0>"
      ]
     },
     "metadata": {},
     "execution_count": 180
    }
   ],
   "metadata": {}
  },
  {
   "cell_type": "markdown",
   "source": [
    "insert all values from csv"
   ],
   "metadata": {}
  },
  {
   "cell_type": "code",
   "execution_count": 181,
   "source": [
    "for i in range(len(df6)):   \n",
    "    curr.execute('''\n",
    "        INSERT INTO studentAssessment(id_assessment,  id_student, date_submitted, is_banked,score)\n",
    "        VALUES (?,?,?,?,?)''',(\n",
    "            df6['id_assessment'][i],\n",
    "            df6['id_student'][i],\n",
    "            df6['date_submitted'][i],\n",
    "            df6['is_banked'][i],\n",
    "            df6['score'][i]\n",
    "        )\n",
    "    )\n",
    "    conn.commit()"
   ],
   "outputs": [],
   "metadata": {}
  },
  {
   "cell_type": "markdown",
   "source": [
    "select and join all the objectives ask to new variable final_query"
   ],
   "metadata": {}
  },
  {
   "cell_type": "code",
   "execution_count": 182,
   "source": [
    "final_query = curr.execute('''\n",
    "    SELECT studentInfo.id_student, studentInfo.region, studentInfo.code_module,  a.assessment_type , studentAssessment.score\n",
    "    FROM studentInfo\n",
    "    JOIN studentAssessment\n",
    "    ON studentInfo.Id_student = studentAssessment.id_student\n",
    "    JOIN assessment a \n",
    "    ON studentAssessment.id_assessment = a.id_assessment\n",
    "    WHERE studentInfo.code_presentation = '2014B'\n",
    "''')"
   ],
   "outputs": [],
   "metadata": {}
  },
  {
   "cell_type": "markdown",
   "source": [
    "creating datafram to read it on pandas dataframe"
   ],
   "metadata": {}
  },
  {
   "cell_type": "code",
   "execution_count": 183,
   "source": [
    "df_final = pd.DataFrame(final_query, columns=[\n",
    "    'id_student',\n",
    "    'region',\n",
    "    'code_module',\n",
    "    'assessment_type',\n",
    "    'score'])"
   ],
   "outputs": [],
   "metadata": {}
  },
  {
   "cell_type": "code",
   "execution_count": 184,
   "source": [
    "df_final"
   ],
   "outputs": [
    {
     "output_type": "execute_result",
     "data": {
      "text/html": [
       "<div>\n",
       "<style scoped>\n",
       "    .dataframe tbody tr th:only-of-type {\n",
       "        vertical-align: middle;\n",
       "    }\n",
       "\n",
       "    .dataframe tbody tr th {\n",
       "        vertical-align: top;\n",
       "    }\n",
       "\n",
       "    .dataframe thead th {\n",
       "        text-align: right;\n",
       "    }\n",
       "</style>\n",
       "<table border=\"1\" class=\"dataframe\">\n",
       "  <thead>\n",
       "    <tr style=\"text-align: right;\">\n",
       "      <th></th>\n",
       "      <th>id_student</th>\n",
       "      <th>region</th>\n",
       "      <th>code_module</th>\n",
       "      <th>assessment_type</th>\n",
       "      <th>score</th>\n",
       "    </tr>\n",
       "  </thead>\n",
       "  <tbody>\n",
       "    <tr>\n",
       "      <th>0</th>\n",
       "      <td>295741</td>\n",
       "      <td>South East Region</td>\n",
       "      <td>FFF</td>\n",
       "      <td>TMA</td>\n",
       "      <td>38.0</td>\n",
       "    </tr>\n",
       "    <tr>\n",
       "      <th>1</th>\n",
       "      <td>295741</td>\n",
       "      <td>South East Region</td>\n",
       "      <td>FFF</td>\n",
       "      <td>TMA</td>\n",
       "      <td>52.0</td>\n",
       "    </tr>\n",
       "    <tr>\n",
       "      <th>2</th>\n",
       "      <td>295741</td>\n",
       "      <td>South East Region</td>\n",
       "      <td>FFF</td>\n",
       "      <td>TMA</td>\n",
       "      <td>52.0</td>\n",
       "    </tr>\n",
       "    <tr>\n",
       "      <th>3</th>\n",
       "      <td>295741</td>\n",
       "      <td>South East Region</td>\n",
       "      <td>FFF</td>\n",
       "      <td>TMA</td>\n",
       "      <td>54.0</td>\n",
       "    </tr>\n",
       "    <tr>\n",
       "      <th>4</th>\n",
       "      <td>295741</td>\n",
       "      <td>South East Region</td>\n",
       "      <td>FFF</td>\n",
       "      <td>TMA</td>\n",
       "      <td>55.0</td>\n",
       "    </tr>\n",
       "    <tr>\n",
       "      <th>...</th>\n",
       "      <td>...</td>\n",
       "      <td>...</td>\n",
       "      <td>...</td>\n",
       "      <td>...</td>\n",
       "      <td>...</td>\n",
       "    </tr>\n",
       "    <tr>\n",
       "      <th>49987</th>\n",
       "      <td>624767</td>\n",
       "      <td>London Region</td>\n",
       "      <td>GGG</td>\n",
       "      <td>CMA</td>\n",
       "      <td>100.0</td>\n",
       "    </tr>\n",
       "    <tr>\n",
       "      <th>49988</th>\n",
       "      <td>627812</td>\n",
       "      <td>Yorkshire Region</td>\n",
       "      <td>GGG</td>\n",
       "      <td>CMA</td>\n",
       "      <td>80.0</td>\n",
       "    </tr>\n",
       "    <tr>\n",
       "      <th>49989</th>\n",
       "      <td>631446</td>\n",
       "      <td>East Anglian Region</td>\n",
       "      <td>GGG</td>\n",
       "      <td>CMA</td>\n",
       "      <td>100.0</td>\n",
       "    </tr>\n",
       "    <tr>\n",
       "      <th>49990</th>\n",
       "      <td>624767</td>\n",
       "      <td>London Region</td>\n",
       "      <td>GGG</td>\n",
       "      <td>CMA</td>\n",
       "      <td>100.0</td>\n",
       "    </tr>\n",
       "    <tr>\n",
       "      <th>49991</th>\n",
       "      <td>631446</td>\n",
       "      <td>East Anglian Region</td>\n",
       "      <td>GGG</td>\n",
       "      <td>CMA</td>\n",
       "      <td>100.0</td>\n",
       "    </tr>\n",
       "  </tbody>\n",
       "</table>\n",
       "<p>49992 rows × 5 columns</p>\n",
       "</div>"
      ],
      "text/plain": [
       "       id_student               region code_module assessment_type  score\n",
       "0          295741    South East Region         FFF             TMA   38.0\n",
       "1          295741    South East Region         FFF             TMA   52.0\n",
       "2          295741    South East Region         FFF             TMA   52.0\n",
       "3          295741    South East Region         FFF             TMA   54.0\n",
       "4          295741    South East Region         FFF             TMA   55.0\n",
       "...           ...                  ...         ...             ...    ...\n",
       "49987      624767        London Region         GGG             CMA  100.0\n",
       "49988      627812     Yorkshire Region         GGG             CMA   80.0\n",
       "49989      631446  East Anglian Region         GGG             CMA  100.0\n",
       "49990      624767        London Region         GGG             CMA  100.0\n",
       "49991      631446  East Anglian Region         GGG             CMA  100.0\n",
       "\n",
       "[49992 rows x 5 columns]"
      ]
     },
     "metadata": {},
     "execution_count": 184
    }
   ],
   "metadata": {}
  },
  {
   "cell_type": "code",
   "execution_count": null,
   "source": [],
   "outputs": [],
   "metadata": {}
  }
 ],
 "metadata": {
  "orig_nbformat": 4,
  "language_info": {
   "name": "python",
   "version": "3.8.11",
   "mimetype": "text/x-python",
   "codemirror_mode": {
    "name": "ipython",
    "version": 3
   },
   "pygments_lexer": "ipython3",
   "nbconvert_exporter": "python",
   "file_extension": ".py"
  },
  "kernelspec": {
   "name": "python3",
   "display_name": "Python 3.8.11 64-bit ('Hacktiv8': conda)"
  },
  "interpreter": {
   "hash": "25d17ee2e6360bc0b99388e701bb10970d5f69e4b26c8ed2feb7435165fb152c"
  }
 },
 "nbformat": 4,
 "nbformat_minor": 2
}